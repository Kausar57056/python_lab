{
  "nbformat": 4,
  "nbformat_minor": 0,
  "metadata": {
    "colab": {
      "provenance": []
    },
    "kernelspec": {
      "name": "python3",
      "display_name": "Python 3"
    },
    "language_info": {
      "name": "python"
    }
  },
  "cells": [
    {
      "cell_type": "markdown",
      "source": [
        "# **Integers**"
      ],
      "metadata": {
        "id": "eokpB0wdC2CT"
      }
    },
    {
      "cell_type": "code",
      "source": [
        "age = int(input(\"Enter your age: \"))\n",
        "print(\"Your age is: \", age)"
      ],
      "metadata": {
        "colab": {
          "base_uri": "https://localhost:8080/"
        },
        "id": "dvOgnoYHC_S9",
        "outputId": "8fc947be-a8a8-46cd-f9b0-3dacced79e23"
      },
      "execution_count": null,
      "outputs": [
        {
          "output_type": "stream",
          "name": "stdout",
          "text": [
            "Enter your age: 21\n",
            "Your age is:  21\n"
          ]
        }
      ]
    },
    {
      "cell_type": "markdown",
      "source": [
        "# **Floats**"
      ],
      "metadata": {
        "id": "URfIY26xDdC-"
      }
    },
    {
      "cell_type": "code",
      "source": [
        "Value_of_pi = float(3.14)\n",
        "print(Value_of_pi)"
      ],
      "metadata": {
        "colab": {
          "base_uri": "https://localhost:8080/"
        },
        "id": "tBmA2T4aDyih",
        "outputId": "998dfb4e-2f5b-424f-dc94-1ab01a57e08c"
      },
      "execution_count": null,
      "outputs": [
        {
          "output_type": "stream",
          "name": "stdout",
          "text": [
            "3.14\n"
          ]
        }
      ]
    },
    {
      "cell_type": "markdown",
      "source": [
        "# **Boolean**"
      ],
      "metadata": {
        "id": "9wphoMk9GZ_s"
      }
    },
    {
      "cell_type": "code",
      "source": [
        "a=5\n",
        "b=10\n",
        "print(bool(a==b))\n",
        "print(bool(a!=b))"
      ],
      "metadata": {
        "colab": {
          "base_uri": "https://localhost:8080/"
        },
        "id": "NBtd5tVoGc0d",
        "outputId": "a12eda5f-b158-4a05-f83d-ad096e3a7fef"
      },
      "execution_count": null,
      "outputs": [
        {
          "output_type": "stream",
          "name": "stdout",
          "text": [
            "False\n",
            "True\n"
          ]
        }
      ]
    },
    {
      "cell_type": "markdown",
      "source": [
        "# **Strings**"
      ],
      "metadata": {
        "id": "2IBsHI-jIGkB"
      }
    },
    {
      "cell_type": "markdown",
      "source": [
        "### **String Indexing**"
      ],
      "metadata": {
        "id": "-MOvP3maKQtQ"
      }
    },
    {
      "cell_type": "code",
      "source": [
        "name = \"Kausar Shoaib\"\n",
        "print(name[0])\n"
      ],
      "metadata": {
        "colab": {
          "base_uri": "https://localhost:8080/"
        },
        "id": "ylvrA8lUIjHn",
        "outputId": "b614ddef-6b66-4588-9ba5-2785dd497535"
      },
      "execution_count": null,
      "outputs": [
        {
          "output_type": "stream",
          "name": "stdout",
          "text": [
            "K\n"
          ]
        }
      ]
    },
    {
      "cell_type": "markdown",
      "source": [
        "### **String Slicing**"
      ],
      "metadata": {
        "id": "wS9TttqrKuRd"
      }
    },
    {
      "cell_type": "code",
      "source": [
        "name = \"Kausar Shoaib\"\n",
        "print(name[0:6])"
      ],
      "metadata": {
        "colab": {
          "base_uri": "https://localhost:8080/"
        },
        "id": "GbXH7X9CKzSz",
        "outputId": "b110618a-7332-4480-8928-334ee3538cfe"
      },
      "execution_count": null,
      "outputs": [
        {
          "output_type": "stream",
          "name": "stdout",
          "text": [
            "Kausar\n"
          ]
        }
      ]
    },
    {
      "cell_type": "markdown",
      "source": [
        "## **String Class Methods**"
      ],
      "metadata": {
        "id": "Ii3sbEZTMBYO"
      }
    },
    {
      "cell_type": "markdown",
      "source": [
        "### **COUNT**"
      ],
      "metadata": {
        "id": "HUxvHd1DOCU9"
      }
    },
    {
      "cell_type": "code",
      "source": [
        "message = \"I love fruits, Apple is one of my favourite fruits\"\n",
        "\n",
        "x = message.count(\"fruits\")\n",
        "\n",
        "print(x)\n"
      ],
      "metadata": {
        "colab": {
          "base_uri": "https://localhost:8080/"
        },
        "id": "mo45-08vMKx2",
        "outputId": "39ef9b36-dbff-4523-945c-dc4dfd9c61a4"
      },
      "execution_count": null,
      "outputs": [
        {
          "output_type": "stream",
          "name": "stdout",
          "text": [
            "2\n"
          ]
        }
      ]
    },
    {
      "cell_type": "markdown",
      "source": [
        "### **FIND**"
      ],
      "metadata": {
        "id": "QjF1WswbOHIh"
      }
    },
    {
      "cell_type": "code",
      "source": [
        "message = \"I love fruits, Apple is one of my favourite fruits\"\n",
        "\n",
        "x = message.find(\"Apple\")\n",
        "\n",
        "print(x)"
      ],
      "metadata": {
        "colab": {
          "base_uri": "https://localhost:8080/"
        },
        "id": "-_9Y6aNXOJTL",
        "outputId": "f8d7cf40-dbe7-4de9-e6f7-994706cea356"
      },
      "execution_count": null,
      "outputs": [
        {
          "output_type": "stream",
          "name": "stdout",
          "text": [
            "15\n"
          ]
        }
      ]
    },
    {
      "cell_type": "markdown",
      "source": [
        "### **INDEX**"
      ],
      "metadata": {
        "id": "5dMu2ZWqPRdB"
      }
    },
    {
      "cell_type": "code",
      "source": [
        "message = \"Hello, Happy Birthday\"\n",
        "\n",
        "x = message.index(\"X\")\n",
        "\n",
        "print(x)"
      ],
      "metadata": {
        "colab": {
          "base_uri": "https://localhost:8080/",
          "height": 211
        },
        "id": "47WUsFucPmmu",
        "outputId": "c04edf7b-29d6-480f-a49a-b6c27f20f24b"
      },
      "execution_count": null,
      "outputs": [
        {
          "output_type": "error",
          "ename": "ValueError",
          "evalue": "substring not found",
          "traceback": [
            "\u001b[0;31m---------------------------------------------------------------------------\u001b[0m",
            "\u001b[0;31mValueError\u001b[0m                                Traceback (most recent call last)",
            "\u001b[0;32m<ipython-input-63-a93341d8c29a>\u001b[0m in \u001b[0;36m<cell line: 3>\u001b[0;34m()\u001b[0m\n\u001b[1;32m      1\u001b[0m \u001b[0mtxt\u001b[0m \u001b[0;34m=\u001b[0m \u001b[0;34m\"Hello, Happy Birthday\"\u001b[0m\u001b[0;34m\u001b[0m\u001b[0;34m\u001b[0m\u001b[0m\n\u001b[1;32m      2\u001b[0m \u001b[0;34m\u001b[0m\u001b[0m\n\u001b[0;32m----> 3\u001b[0;31m \u001b[0mx\u001b[0m \u001b[0;34m=\u001b[0m \u001b[0mtxt\u001b[0m\u001b[0;34m.\u001b[0m\u001b[0mindex\u001b[0m\u001b[0;34m(\u001b[0m\u001b[0;34m\"X\"\u001b[0m\u001b[0;34m)\u001b[0m\u001b[0;34m\u001b[0m\u001b[0;34m\u001b[0m\u001b[0m\n\u001b[0m\u001b[1;32m      4\u001b[0m \u001b[0;34m\u001b[0m\u001b[0m\n\u001b[1;32m      5\u001b[0m \u001b[0mprint\u001b[0m\u001b[0;34m(\u001b[0m\u001b[0mx\u001b[0m\u001b[0;34m)\u001b[0m\u001b[0;34m\u001b[0m\u001b[0;34m\u001b[0m\u001b[0m\n",
            "\u001b[0;31mValueError\u001b[0m: substring not found"
          ]
        }
      ]
    },
    {
      "cell_type": "markdown",
      "source": [
        "### **REPLACE**"
      ],
      "metadata": {
        "id": "4gbGkEHxQMmL"
      }
    },
    {
      "cell_type": "code",
      "source": [
        "message = \"Maaz is a good boy\"\n",
        "a = message.replace(\"good\" , \"bad\")\n",
        "print(a)"
      ],
      "metadata": {
        "colab": {
          "base_uri": "https://localhost:8080/"
        },
        "id": "8WmAThqqQkmz",
        "outputId": "37044837-77b5-4d85-9854-1363bcd18e50"
      },
      "execution_count": null,
      "outputs": [
        {
          "output_type": "stream",
          "name": "stdout",
          "text": [
            "Maaz is a bad boy\n"
          ]
        }
      ]
    }
  ]
}